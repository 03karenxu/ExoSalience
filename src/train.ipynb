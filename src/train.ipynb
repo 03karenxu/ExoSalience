{
 "cells": [
  {
   "cell_type": "markdown",
   "id": "43bf66f6",
   "metadata": {},
   "source": [
    "#### Imports"
   ]
  },
  {
   "cell_type": "code",
   "execution_count": 6,
   "id": "b660146e",
   "metadata": {},
   "outputs": [],
   "source": [
    "import torch\n",
    "from cnn import CNN1DEncoder\n",
    "from dataset import ExoplanetDataset, collate\n"
   ]
  },
  {
   "cell_type": "markdown",
   "id": "5ac6b11b",
   "metadata": {},
   "source": [
    "#### Data"
   ]
  },
  {
   "cell_type": "markdown",
   "id": "9bcb6730",
   "metadata": {},
   "source": [
    "to-do: \n",
    "get:\n",
    "- global curves\n",
    "- local curves\n",
    "- labels\n",
    "- ids\n",
    "- tabular data"
   ]
  },
  {
   "cell_type": "code",
   "execution_count": null,
   "id": "1d7fc468",
   "metadata": {},
   "outputs": [],
   "source": [
    "data = ExoplanetDataset(\n",
    "    global_curves = ...,\n",
    "    local_curves = ...,\n",
    "    labels = ...,\n",
    "    ids = ...,\n",
    "    tabular = ...\n",
    ")"
   ]
  },
  {
   "cell_type": "code",
   "execution_count": null,
   "id": "3327c73f",
   "metadata": {},
   "outputs": [],
   "source": [
    "from torch.utils.data import DataLoader\n",
    "dl = DataLoader(\n",
    "    data,\n",
    "    batch_size = 32,\n",
    "    shuffle = True,\n",
    "    collate_fn = collate\n",
    ")"
   ]
  },
  {
   "cell_type": "code",
   "execution_count": null,
   "id": "e83c727d",
   "metadata": {},
   "outputs": [],
   "source": [
    "# train\n"
   ]
  },
  {
   "cell_type": "code",
   "execution_count": null,
   "id": "81084630",
   "metadata": {},
   "outputs": [],
   "source": [
    "for xg, xl, xt, y, ids in dl:\n",
    "    ... # train/test"
   ]
  }
 ],
 "metadata": {
  "kernelspec": {
   "display_name": "hackathon",
   "language": "python",
   "name": "python3"
  },
  "language_info": {
   "codemirror_mode": {
    "name": "ipython",
    "version": 3
   },
   "file_extension": ".py",
   "mimetype": "text/x-python",
   "name": "python",
   "nbconvert_exporter": "python",
   "pygments_lexer": "ipython3",
   "version": "3.10.18"
  }
 },
 "nbformat": 4,
 "nbformat_minor": 5
}
