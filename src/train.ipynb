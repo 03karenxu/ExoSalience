{
 "cells": [
  {
   "cell_type": "markdown",
   "id": "43bf66f6",
   "metadata": {},
   "source": [
    "#### Imports"
   ]
  },
  {
   "cell_type": "code",
   "execution_count": 8,
   "id": "b660146e",
   "metadata": {},
   "outputs": [
    {
     "name": "stdout",
     "output_type": "stream",
     "text": [
      "Device: cuda\n"
     ]
    }
   ],
   "source": [
    "import os, json, math, time\n",
    "import torch\n",
    "import numpy as np\n",
    "from torch import nn\n",
    "from torch.utils.data import DataLoader, random_split\n",
    "\n",
    "device = torch.device(\"cuda\" if torch.cuda.is_available() else \"cpu\")\n",
    "torch.backends.cudnn.benchmark = True\n",
    "torch.manual_seed(42); np.random.seed(42)\n",
    "print(\"Device:\", device)"
   ]
  },
  {
   "cell_type": "code",
   "execution_count": null,
   "id": "747e4ac3",
   "metadata": {},
   "outputs": [],
   "source": [
    "from cnn import CNN1DEncoder, AstronetMVP\n",
    "from dataset import ExoplanetDataset, collate"
   ]
  },
  {
   "cell_type": "markdown",
   "id": "5ac6b11b",
   "metadata": {},
   "source": [
    "#### Data"
   ]
  },
  {
   "cell_type": "markdown",
   "id": "9bcb6730",
   "metadata": {},
   "source": [
    "to-do: \n",
    "get:\n",
    "- global curves\n",
    "- local curves\n",
    "- labels\n",
    "- ids\n",
    "- tabular data"
   ]
  },
  {
   "cell_type": "code",
   "execution_count": null,
   "id": "1d7fc468",
   "metadata": {},
   "outputs": [],
   "source": [
    "# create data set\n",
    "ds = ExoplanetDataset(\n",
    "    global_curves = ...,\n",
    "    local_curves = ...,\n",
    "    labels = ...,\n",
    "    ids = ...,\n",
    "    tabular = ...\n",
    ")"
   ]
  },
  {
   "cell_type": "code",
   "execution_count": null,
   "id": "3327c73f",
   "metadata": {},
   "outputs": [],
   "source": [
    "# create train test split from data set\n",
    "train_size = int(0.8 * len(ds))\n",
    "test_size = len(ds) - train_size\n",
    "\n",
    "ds_train, ds_test = random_split(ds, [train_size, test_size], generator = torch.Generator().manual_seed(42))\n",
    "\n",
    "dl_train = DataLoader(ds_train, batch_size = 64, shuffle=True, collate_fn=collate, drop_last=False)\n",
    "dl_test = DataLoader(ds_test, batch_size = 64, shuffle=True, collate_fn=collate, drop_last=False)\n"
   ]
  },
  {
   "cell_type": "code",
   "execution_count": null,
   "id": "e83c727d",
   "metadata": {},
   "outputs": [],
   "source": [
    "# loss, optimizer, pos weight from train set\n",
    "def compute_pos_weight_from_loader(dloader):\n",
    "    pos = neg = 0\n",
    "    with torch.no_grad():\n",
    "        for _xg, _xl, _xt, _y, _ids in dloader:\n",
    "            pos += (_y == 1).sum().item()\n",
    "            neg += (_y == 0).sum().item()\n",
    "    if pos == 0 or neg == 0: return None\n",
    "    return torch.tensor([neg / max(pos, 1.0)], dtype=torch.float32, device=device)\n",
    "\n",
    "# Infer tabular_dim from one train batch\n",
    "xg0, xl0, xt0, y0, ids0 = next(iter(dl_train))\n",
    "tabular_dim = 0 if xt0 is None else xt0.shape[1]\n",
    "\n",
    "model = AstronetMVP(hidden=64, k_global=7, k_local=5, tabular_dim=tabular_dim).to(device)\n",
    "\n",
    "pos_weight = compute_pos_weight_from_loader(dl_train)\n",
    "criterion = nn.BCEWithLogitsLoss(pos_weight=pos_weight) if pos_weight is not None else nn.BCEWithLogitsLoss()\n",
    "optimizer = torch.optim.Adam(model.parameters(), lr=1e-3, weight_decay=1e-5)"
   ]
  },
  {
   "cell_type": "code",
   "execution_count": null,
   "id": "81084630",
   "metadata": {},
   "outputs": [],
   "source": []
  }
 ],
 "metadata": {
  "kernelspec": {
   "display_name": "hackathon",
   "language": "python",
   "name": "python3"
  },
  "language_info": {
   "codemirror_mode": {
    "name": "ipython",
    "version": 3
   },
   "file_extension": ".py",
   "mimetype": "text/x-python",
   "name": "python",
   "nbconvert_exporter": "python",
   "pygments_lexer": "ipython3",
   "version": "3.10.18"
  }
 },
 "nbformat": 4,
 "nbformat_minor": 5
}
