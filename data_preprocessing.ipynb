{
 "cells": [
  {
   "cell_type": "markdown",
   "id": "e058e7db-9aaa-43c8-bef1-b138e3658a1d",
   "metadata": {},
   "source": [
    "**Data Preprocessing**\n",
    "\n",
    "Steps:\n",
    "\n",
    "1. Load subset of Kepler Data to pandas DF\n",
    "2. Use lightkurve to get time series data for each item\n",
    "3. Do math stuff\n"
   ]
  },
  {
   "cell_type": "code",
   "execution_count": 20,
   "id": "cb6ce282-3a81-4fdb-a548-4cb97523e2fc",
   "metadata": {},
   "outputs": [
    {
     "name": "stdout",
     "output_type": "stream",
     "text": [
      "SearchResult containing 17 data products.\n",
      "\n",
      " #       mission      year author exptime  target_name  distance\n",
      "                                     s                   arcsec \n",
      "--- ----------------- ---- ------ ------- ------------- --------\n",
      "  0 Kepler Quarter 01 2009 Kepler    1800 kplr010797460      0.0\n",
      "  1 Kepler Quarter 02 2009 Kepler    1800 kplr010797460      0.0\n",
      "  2 Kepler Quarter 03 2009 Kepler    1800 kplr010797460      0.0\n",
      "  3 Kepler Quarter 04 2010 Kepler    1800 kplr010797460      0.0\n",
      "  4 Kepler Quarter 05 2010 Kepler    1800 kplr010797460      0.0\n",
      "  5 Kepler Quarter 06 2010 Kepler    1800 kplr010797460      0.0\n",
      "  6 Kepler Quarter 07 2010 Kepler    1800 kplr010797460      0.0\n",
      "  7 Kepler Quarter 10 2011 Kepler    1800 kplr010797460      0.0\n",
      "  8 Kepler Quarter 09 2011 Kepler    1800 kplr010797460      0.0\n",
      "  9 Kepler Quarter 08 2011 Kepler    1800 kplr010797460      0.0\n",
      " 10 Kepler Quarter 11 2012 Kepler    1800 kplr010797460      0.0\n",
      " 11 Kepler Quarter 12 2012 Kepler    1800 kplr010797460      0.0\n",
      " 12 Kepler Quarter 13 2012 Kepler    1800 kplr010797460      0.0\n",
      " 13 Kepler Quarter 14 2012 Kepler    1800 kplr010797460      0.0\n",
      " 14 Kepler Quarter 15 2013 Kepler    1800 kplr010797460      0.0\n",
      " 15 Kepler Quarter 16 2013 Kepler    1800 kplr010797460      0.0\n",
      " 16 Kepler Quarter 17 2013 Kepler    1800 kplr010797460      0.0\n"
     ]
    },
    {
     "name": "stderr",
     "output_type": "stream",
     "text": [
      "/var/folders/q7/5ptnw00j6v3f0kzmps66tsxw0000gn/T/ipykernel_27642/1508479901.py:20: FutureWarning: Series.__getitem__ treating keys as positions is deprecated. In a future version, integer keys will always be treated as labels (consistent with DataFrame behavior). To access a value by position, use `ser.iloc[pos]`\n",
      "  kepid = row[0]\n"
     ]
    }
   ],
   "source": [
    "import lightkurve as lk\n",
    "import matplotlib\n",
    "import pandas as pd\n",
    "import wotan\n",
    "\n",
    "# KOI data csv\n",
    "path_to_koi = \"koi_dataset.csv\"\n",
    "\n",
    "# load to df\n",
    "koi_df = pd.read_csv(path_to_koi)\n",
    "\n",
    "row_count = len(koi_df)\n",
    "# print(f\"Kepler Objects of Interest Dataset Sample (5/{row_count} rows):\")\n",
    "# print(koi_df.head())\n",
    "\n",
    "# debug\n",
    "test_df = koi_df[1:11]\n",
    "\n",
    "for i, row in test_df.iterrows():\n",
    "    kepid = row[0]\n",
    "    \n",
    "    lc_search = lk.search_lightcurve(f\"KIC {kepid}\", mission='Kepler')\n",
    "\n",
    "    print(lc_search)\n",
    "    break"
   ]
  }
 ],
 "metadata": {
  "kernelspec": {
   "display_name": "exosalience",
   "language": "python",
   "name": "python3"
  },
  "language_info": {
   "codemirror_mode": {
    "name": "ipython",
    "version": 3
   },
   "file_extension": ".py",
   "mimetype": "text/x-python",
   "name": "python",
   "nbconvert_exporter": "python",
   "pygments_lexer": "ipython3",
   "version": "3.10.18"
  }
 },
 "nbformat": 4,
 "nbformat_minor": 5
}
