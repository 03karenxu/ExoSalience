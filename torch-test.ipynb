{
 "cells": [
  {
   "cell_type": "code",
   "execution_count": 1,
   "id": "d6d6d1f3",
   "metadata": {
    "vscode": {
     "languageId": "shellscript"
    }
   },
   "outputs": [
    {
     "name": "stdout",
     "output_type": "stream",
     "text": [
      "torch                     2.2.2+cu121\n",
      "torchvision               0.17.2+cu121\n",
      "Note: you may need to restart the kernel to use updated packages.\n"
     ]
    }
   ],
   "source": [
    "pip list | grep torch"
   ]
  },
  {
   "cell_type": "code",
   "execution_count": 2,
   "id": "f4bd6a42",
   "metadata": {},
   "outputs": [
    {
     "name": "stdout",
     "output_type": "stream",
     "text": [
      "True\n",
      "12.1\n",
      "NVIDIA GeForce RTX 5070\n"
     ]
    },
    {
     "name": "stderr",
     "output_type": "stream",
     "text": [
      "/home/nathan/.pyenv/versions/hackathon/lib/python3.10/site-packages/torch/cuda/__init__.py:218: UserWarning: \n",
      "NVIDIA GeForce RTX 5070 with CUDA capability sm_120 is not compatible with the current PyTorch installation.\n",
      "The current PyTorch install supports CUDA capabilities sm_50 sm_60 sm_70 sm_75 sm_80 sm_86 sm_90.\n",
      "If you want to use the NVIDIA GeForce RTX 5070 GPU with PyTorch, please check the instructions at https://pytorch.org/get-started/locally/\n",
      "\n",
      "  warnings.warn(\n"
     ]
    }
   ],
   "source": [
    "import torch\n",
    "\n",
    "print(torch.cuda.is_available())\n",
    "print(torch.version.cuda)\n",
    "print(torch.cuda.get_device_name(0))"
   ]
  },
  {
   "cell_type": "markdown",
   "id": "fb07b3d6",
   "metadata": {},
   "source": [
    "Simple 1D -> 1D CNN"
   ]
  },
  {
   "cell_type": "code",
   "execution_count": 3,
   "id": "9071e372",
   "metadata": {},
   "outputs": [],
   "source": [
    "import torch\n",
    "from torch.utils.data import Dataset\n",
    "from torch import FloatTensor\n",
    "\n",
    "BATCH_SIZE = 1\n",
    "INPUT_VEC_SIZE = 4 # how many columns per row\n",
    "OUTPUT_VEC_SIZE_GV = 2001 # global view output vector size\n",
    "\n",
    "# relu for hidden\n",
    "# sigmoid for output\n",
    "\n",
    "class TabularDataset(Dataset):\n",
    "\n",
    "    def __init__(self, X:FloatTensor, Y:FloatTensor):\n",
    "        \"\"\"\n",
    "        X: tensor with shape of (BATCH_SIZE, INPUT_VEC_SIZE)\n",
    "        Y: tensor with shape of (BATCH_SIZE, OUTPUT_VEC_SIZE_GV)\n",
    "        \"\"\"\n",
    "\n",
    "        self.X:FloatTensor = X \n",
    "        self.Y:FloatTensor = Y\n",
    "\n",
    "    def __len__(self): return self.X.shape[0]\n",
    "\n",
    "    def __getitem__(self, i):\n",
    "        x = self.X[i].unsqueeze(0)\n",
    "        if self.Y is None: return x\n",
    "        return x, self.Y[i]\n",
    "\n",
    "\n",
    "    "
   ]
  },
  {
   "cell_type": "code",
   "execution_count": null,
   "id": "8b27e9c5",
   "metadata": {},
   "outputs": [],
   "source": [
    "import torch.nn as nn\n",
    "\n",
    "class CNN1D(nn.Module):\n",
    "    def __init__(self, Y, hidden=64, kernel_size=1):\n",
    "        super().__init__()\n",
    "        pad = kernel_size // 2\n",
    "        \n",
    "        self.features = nn.Sequential(\n",
    "            nn.Conv1d(1, hidden, kernel_size=kernel_size, padding=pad),\n",
    "            nn.ReLU(),\n",
    "            nn.Conv1d(hidden, hidden, kernel_size=kernel_size, padding=pad),\n",
    "            nn.ReLU(),\n",
    "        )\n",
    "\n",
    "        self.resize = nn.AdaptiveAvgPool1d(Y)\n",
    "        self.head = nn.Conv1d(hidden, 1, kernel_size=1)\n",
    "\n",
    "    def forward(self, x):\n",
    "        z = self.features(x)\n",
    "        z = self.resize(z)\n",
    "        z = self.head(z)\n",
    "        out = z.squeeze(1)\n",
    "        return out"
   ]
  },
  {
   "cell_type": "code",
   "execution_count": 10,
   "id": "87338f32",
   "metadata": {},
   "outputs": [],
   "source": [
    "from torch.utils.data import DataLoader\n",
    "\n",
    "# assemble fake data for testing\n",
    "\n",
    "fake_input = torch.randn(BATCH_SIZE, INPUT_VEC_SIZE)\n",
    "fake_targets = torch.randn(BATCH_SIZE, OUTPUT_VEC_SIZE_GV)\n",
    "\n",
    "loader = DataLoader(TabularDataset(fake_input, fake_targets), batch_size=2, shuffle=False)\n"
   ]
  },
  {
   "cell_type": "code",
   "execution_count": 11,
   "id": "ed19fd82",
   "metadata": {},
   "outputs": [],
   "source": [
    "model = CNN1D(Y=OUTPUT_VEC_SIZE_GV, hidden=16, kernel_size=1)\n",
    "criterion = nn.MSELoss()\n",
    "opt = torch.optim.Adam(model.parameters(), lr =1e-3)"
   ]
  },
  {
   "cell_type": "code",
   "execution_count": 12,
   "id": "bdd3560f",
   "metadata": {},
   "outputs": [
    {
     "name": "stdout",
     "output_type": "stream",
     "text": [
      "torch version: 2.2.2+cu121\n",
      "torch file   : /home/nathan/.pyenv/versions/hackathon/lib/python3.10/site-packages/torch/__init__.py\n",
      "has justknobs_check?: False\n"
     ]
    }
   ],
   "source": [
    "import sys, torch, inspect\n",
    "print(\"torch version:\", torch.__version__)\n",
    "print(\"torch file   :\", torch.__file__)\n",
    "import torch._utils_internal as ui\n",
    "print(\"has justknobs_check?:\", hasattr(ui, \"justknobs_check\"))"
   ]
  },
  {
   "cell_type": "code",
   "execution_count": 13,
   "id": "9746191c",
   "metadata": {
    "vscode": {
     "languageId": "bat"
    }
   },
   "outputs": [
    {
     "name": "stdout",
     "output_type": "stream",
     "text": [
      "drwxrwxr-x 3 nathan nathan    4096 Oct  4 13:22 \u001b[0m\u001b[01;34m.\u001b[0m/\n",
      "drwxrwxr-x 5 nathan nathan    4096 Oct  4 12:27 \u001b[01;34m..\u001b[0m/\n",
      "drwxrwxr-x 8 nathan nathan    4096 Oct  4 13:22 \u001b[01;34m.git\u001b[0m/\n"
     ]
    }
   ],
   "source": [
    "ls -la | grep -E '^d| torch.py'"
   ]
  },
  {
   "cell_type": "code",
   "execution_count": 14,
   "id": "07dca647",
   "metadata": {},
   "outputs": [
    {
     "ename": "AttributeError",
     "evalue": "'CNN1D' object has no attribute 'feat'",
     "output_type": "error",
     "traceback": [
      "\u001b[0;31m---------------------------------------------------------------------------\u001b[0m",
      "\u001b[0;31mAttributeError\u001b[0m                            Traceback (most recent call last)",
      "Cell \u001b[0;32mIn[14], line 2\u001b[0m\n\u001b[1;32m      1\u001b[0m \u001b[38;5;28;01mfor\u001b[39;00m xb, yb \u001b[38;5;129;01min\u001b[39;00m loader:\n\u001b[0;32m----> 2\u001b[0m     pred \u001b[38;5;241m=\u001b[39m \u001b[43mmodel\u001b[49m\u001b[43m(\u001b[49m\u001b[43mxb\u001b[49m\u001b[43m)\u001b[49m                 \u001b[38;5;66;03m# prints shapes\u001b[39;00m\n\u001b[1;32m      3\u001b[0m     loss \u001b[38;5;241m=\u001b[39m criterion(pred, yb)\n\u001b[1;32m      4\u001b[0m     \u001b[38;5;28mprint\u001b[39m(\u001b[38;5;124m\"\u001b[39m\u001b[38;5;124mloss   :\u001b[39m\u001b[38;5;124m\"\u001b[39m, loss\u001b[38;5;241m.\u001b[39mitem())\n",
      "File \u001b[0;32m~/.pyenv/versions/hackathon/lib/python3.10/site-packages/torch/nn/modules/module.py:1511\u001b[0m, in \u001b[0;36mModule._wrapped_call_impl\u001b[0;34m(self, *args, **kwargs)\u001b[0m\n\u001b[1;32m   1509\u001b[0m     \u001b[38;5;28;01mreturn\u001b[39;00m \u001b[38;5;28mself\u001b[39m\u001b[38;5;241m.\u001b[39m_compiled_call_impl(\u001b[38;5;241m*\u001b[39margs, \u001b[38;5;241m*\u001b[39m\u001b[38;5;241m*\u001b[39mkwargs)  \u001b[38;5;66;03m# type: ignore[misc]\u001b[39;00m\n\u001b[1;32m   1510\u001b[0m \u001b[38;5;28;01melse\u001b[39;00m:\n\u001b[0;32m-> 1511\u001b[0m     \u001b[38;5;28;01mreturn\u001b[39;00m \u001b[38;5;28;43mself\u001b[39;49m\u001b[38;5;241;43m.\u001b[39;49m\u001b[43m_call_impl\u001b[49m\u001b[43m(\u001b[49m\u001b[38;5;241;43m*\u001b[39;49m\u001b[43margs\u001b[49m\u001b[43m,\u001b[49m\u001b[43m \u001b[49m\u001b[38;5;241;43m*\u001b[39;49m\u001b[38;5;241;43m*\u001b[39;49m\u001b[43mkwargs\u001b[49m\u001b[43m)\u001b[49m\n",
      "File \u001b[0;32m~/.pyenv/versions/hackathon/lib/python3.10/site-packages/torch/nn/modules/module.py:1520\u001b[0m, in \u001b[0;36mModule._call_impl\u001b[0;34m(self, *args, **kwargs)\u001b[0m\n\u001b[1;32m   1515\u001b[0m \u001b[38;5;66;03m# If we don't have any hooks, we want to skip the rest of the logic in\u001b[39;00m\n\u001b[1;32m   1516\u001b[0m \u001b[38;5;66;03m# this function, and just call forward.\u001b[39;00m\n\u001b[1;32m   1517\u001b[0m \u001b[38;5;28;01mif\u001b[39;00m \u001b[38;5;129;01mnot\u001b[39;00m (\u001b[38;5;28mself\u001b[39m\u001b[38;5;241m.\u001b[39m_backward_hooks \u001b[38;5;129;01mor\u001b[39;00m \u001b[38;5;28mself\u001b[39m\u001b[38;5;241m.\u001b[39m_backward_pre_hooks \u001b[38;5;129;01mor\u001b[39;00m \u001b[38;5;28mself\u001b[39m\u001b[38;5;241m.\u001b[39m_forward_hooks \u001b[38;5;129;01mor\u001b[39;00m \u001b[38;5;28mself\u001b[39m\u001b[38;5;241m.\u001b[39m_forward_pre_hooks\n\u001b[1;32m   1518\u001b[0m         \u001b[38;5;129;01mor\u001b[39;00m _global_backward_pre_hooks \u001b[38;5;129;01mor\u001b[39;00m _global_backward_hooks\n\u001b[1;32m   1519\u001b[0m         \u001b[38;5;129;01mor\u001b[39;00m _global_forward_hooks \u001b[38;5;129;01mor\u001b[39;00m _global_forward_pre_hooks):\n\u001b[0;32m-> 1520\u001b[0m     \u001b[38;5;28;01mreturn\u001b[39;00m \u001b[43mforward_call\u001b[49m\u001b[43m(\u001b[49m\u001b[38;5;241;43m*\u001b[39;49m\u001b[43margs\u001b[49m\u001b[43m,\u001b[49m\u001b[43m \u001b[49m\u001b[38;5;241;43m*\u001b[39;49m\u001b[38;5;241;43m*\u001b[39;49m\u001b[43mkwargs\u001b[49m\u001b[43m)\u001b[49m\n\u001b[1;32m   1522\u001b[0m \u001b[38;5;28;01mtry\u001b[39;00m:\n\u001b[1;32m   1523\u001b[0m     result \u001b[38;5;241m=\u001b[39m \u001b[38;5;28;01mNone\u001b[39;00m\n",
      "Cell \u001b[0;32mIn[4], line 19\u001b[0m, in \u001b[0;36mCNN1D.forward\u001b[0;34m(self, x)\u001b[0m\n\u001b[1;32m     18\u001b[0m \u001b[38;5;28;01mdef\u001b[39;00m\u001b[38;5;250m \u001b[39m\u001b[38;5;21mforward\u001b[39m(\u001b[38;5;28mself\u001b[39m, x):\n\u001b[0;32m---> 19\u001b[0m     z \u001b[38;5;241m=\u001b[39m \u001b[38;5;28;43mself\u001b[39;49m\u001b[38;5;241;43m.\u001b[39;49m\u001b[43mfeat\u001b[49m(x)\n\u001b[1;32m     20\u001b[0m     z \u001b[38;5;241m=\u001b[39m \u001b[38;5;28mself\u001b[39m\u001b[38;5;241m.\u001b[39mresize(z)\n\u001b[1;32m     21\u001b[0m     z \u001b[38;5;241m=\u001b[39m \u001b[38;5;28mself\u001b[39m\u001b[38;5;241m.\u001b[39mhead(z)\n",
      "File \u001b[0;32m~/.pyenv/versions/hackathon/lib/python3.10/site-packages/torch/nn/modules/module.py:1688\u001b[0m, in \u001b[0;36mModule.__getattr__\u001b[0;34m(self, name)\u001b[0m\n\u001b[1;32m   1686\u001b[0m     \u001b[38;5;28;01mif\u001b[39;00m name \u001b[38;5;129;01min\u001b[39;00m modules:\n\u001b[1;32m   1687\u001b[0m         \u001b[38;5;28;01mreturn\u001b[39;00m modules[name]\n\u001b[0;32m-> 1688\u001b[0m \u001b[38;5;28;01mraise\u001b[39;00m \u001b[38;5;167;01mAttributeError\u001b[39;00m(\u001b[38;5;124mf\u001b[39m\u001b[38;5;124m\"\u001b[39m\u001b[38;5;124m'\u001b[39m\u001b[38;5;132;01m{\u001b[39;00m\u001b[38;5;28mtype\u001b[39m(\u001b[38;5;28mself\u001b[39m)\u001b[38;5;241m.\u001b[39m\u001b[38;5;18m__name__\u001b[39m\u001b[38;5;132;01m}\u001b[39;00m\u001b[38;5;124m'\u001b[39m\u001b[38;5;124m object has no attribute \u001b[39m\u001b[38;5;124m'\u001b[39m\u001b[38;5;132;01m{\u001b[39;00mname\u001b[38;5;132;01m}\u001b[39;00m\u001b[38;5;124m'\u001b[39m\u001b[38;5;124m\"\u001b[39m)\n",
      "\u001b[0;31mAttributeError\u001b[0m: 'CNN1D' object has no attribute 'feat'"
     ]
    }
   ],
   "source": [
    "for xb, yb in loader:\n",
    "    pred = model(xb)                 # prints shapes\n",
    "    loss = criterion(pred, yb)\n",
    "    print(\"loss   :\", loss.item())\n",
    "\n",
    "    opt.zero_grad()\n",
    "    loss.backward()                  # autograd computes grads\n",
    "    opt.step()\n",
    "    print(\"--- batch done ---\\n\")"
   ]
  },
  {
   "cell_type": "code",
   "execution_count": null,
   "id": "72fbd4c0",
   "metadata": {},
   "outputs": [],
   "source": []
  }
 ],
 "metadata": {
  "kernelspec": {
   "display_name": "hackathon",
   "language": "python",
   "name": "python3"
  },
  "language_info": {
   "codemirror_mode": {
    "name": "ipython",
    "version": 3
   },
   "file_extension": ".py",
   "mimetype": "text/x-python",
   "name": "python",
   "nbconvert_exporter": "python",
   "pygments_lexer": "ipython3",
   "version": "3.10.18"
  }
 },
 "nbformat": 4,
 "nbformat_minor": 5
}
