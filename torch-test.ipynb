{
 "cells": [
  {
   "cell_type": "code",
   "execution_count": 1,
   "id": "d6d6d1f3",
   "metadata": {
    "vscode": {
     "languageId": "shellscript"
    }
   },
   "outputs": [
    {
     "name": "stdout",
     "output_type": "stream",
     "text": [
      "torch                     2.8.0+cu128\n",
      "torchinfo                 1.8.0\n",
      "torchvision               0.23.0+cu128\n",
      "Note: you may need to restart the kernel to use updated packages.\n"
     ]
    }
   ],
   "source": [
    "pip list | grep torch"
   ]
  },
  {
   "cell_type": "code",
   "execution_count": 2,
   "id": "f4bd6a42",
   "metadata": {},
   "outputs": [
    {
     "name": "stdout",
     "output_type": "stream",
     "text": [
      "True\n",
      "12.8\n",
      "NVIDIA GeForce RTX 5070\n"
     ]
    }
   ],
   "source": [
    "import torch\n",
    "\n",
    "print(torch.cuda.is_available())\n",
    "print(torch.version.cuda)\n",
    "print(torch.cuda.get_device_name(0))"
   ]
  },
  {
   "cell_type": "markdown",
   "id": "fb07b3d6",
   "metadata": {},
   "source": [
    "Simple 1D -> 1D CNN"
   ]
  },
  {
   "cell_type": "code",
   "execution_count": 3,
   "id": "9071e372",
   "metadata": {},
   "outputs": [],
   "source": [
    "import torch\n",
    "from torch.utils.data import Dataset\n",
    "from torch import FloatTensor\n",
    "\n",
    "BATCH_SIZE = 1\n",
    "INPUT_VEC_SIZE = 4 # how many columns per row\n",
    "OUTPUT_VEC_SIZE_GV = 2001 # global view output vector size\n",
    "\n",
    "# relu for hidden\n",
    "# sigmoid for output\n",
    "\n",
    "class TabularDataset(Dataset):\n",
    "\n",
    "    def __init__(self, X:FloatTensor, Y:FloatTensor):\n",
    "        \"\"\"\n",
    "        X: tensor with shape of (BATCH_SIZE, INPUT_VEC_SIZE)\n",
    "        Y: tensor with shape of (BATCH_SIZE, OUTPUT_VEC_SIZE_GV)\n",
    "        \"\"\"\n",
    "\n",
    "        self.X:FloatTensor = X \n",
    "        self.Y:FloatTensor = Y\n",
    "\n",
    "    def __len__(self): return self.X.shape[0]\n",
    "\n",
    "    def __getitem__(self, i):\n",
    "        x = self.X[i].unsqueeze(0)\n",
    "        if self.Y is None: return x\n",
    "        return x, self.Y[i]\n",
    "\n",
    "\n",
    "    "
   ]
  },
  {
   "cell_type": "code",
   "execution_count": 4,
   "id": "8b27e9c5",
   "metadata": {},
   "outputs": [],
   "source": [
    "import torch.nn as nn\n",
    "\n",
    "class CNN1D(nn.Module):\n",
    "    def __init__(self, Y, hidden=64, kernel_size=1):\n",
    "        super().__init__()\n",
    "        pad = kernel_size // 2\n",
    "        \n",
    "        self.features = nn.Sequential(\n",
    "            nn.Conv1d(1, hidden, kernel_size=kernel_size, padding=pad),\n",
    "            nn.ReLU(),\n",
    "            nn.Conv1d(hidden, hidden, kernel_size=kernel_size, padding=pad),\n",
    "            nn.ReLU(),\n",
    "        )\n",
    "\n",
    "        self.resize = nn.AdaptiveAvgPool1d(Y)\n",
    "        self.head = nn.Conv1d(hidden, 1, kernel_size=1)\n",
    "\n",
    "    def forward(self, x):\n",
    "        z = self.features(x)\n",
    "        z = self.resize(z)\n",
    "        z = self.head(z)\n",
    "        out = z.squeeze(1)\n",
    "        return out"
   ]
  },
  {
   "cell_type": "code",
   "execution_count": 5,
   "id": "87338f32",
   "metadata": {},
   "outputs": [],
   "source": [
    "from torch.utils.data import DataLoader\n",
    "\n",
    "# assemble fake data for testing\n",
    "\n",
    "fake_input = torch.randn(BATCH_SIZE, INPUT_VEC_SIZE)\n",
    "fake_targets = torch.randn(BATCH_SIZE, OUTPUT_VEC_SIZE_GV)\n",
    "\n",
    "loader = DataLoader(TabularDataset(fake_input, fake_targets), batch_size=2, shuffle=False)\n"
   ]
  },
  {
   "cell_type": "code",
   "execution_count": 6,
   "id": "ed19fd82",
   "metadata": {},
   "outputs": [],
   "source": [
    "model = CNN1D(Y=OUTPUT_VEC_SIZE_GV, hidden=16, kernel_size=1)\n",
    "criterion = nn.MSELoss()\n",
    "opt = torch.optim.Adam(model.parameters(), lr =1e-3)"
   ]
  },
  {
   "cell_type": "code",
   "execution_count": 7,
   "id": "07dca647",
   "metadata": {},
   "outputs": [
    {
     "name": "stdout",
     "output_type": "stream",
     "text": [
      "loss   : 1.0506465435028076\n",
      "--- batch done ---\n",
      "\n"
     ]
    }
   ],
   "source": [
    "for xb, yb in loader:\n",
    "    pred = model(xb)                 # prints shapes\n",
    "    loss = criterion(pred, yb)\n",
    "    print(\"loss   :\", loss.item())\n",
    "\n",
    "    opt.zero_grad()\n",
    "    loss.backward()                  # autograd computes grads\n",
    "    opt.step()\n",
    "    print(\"--- batch done ---\\n\")"
   ]
  },
  {
   "cell_type": "code",
   "execution_count": 8,
   "id": "72fbd4c0",
   "metadata": {},
   "outputs": [
    {
     "name": "stdout",
     "output_type": "stream",
     "text": [
      "CNN1D(\n",
      "  (features): Sequential(\n",
      "    (0): Conv1d(1, 16, kernel_size=(1,), stride=(1,))\n",
      "    (1): ReLU()\n",
      "    (2): Conv1d(16, 16, kernel_size=(1,), stride=(1,))\n",
      "    (3): ReLU()\n",
      "  )\n",
      "  (resize): AdaptiveAvgPool1d(output_size=2001)\n",
      "  (head): Conv1d(16, 1, kernel_size=(1,), stride=(1,))\n",
      ")\n",
      "params: total=321 trainable=321\n"
     ]
    }
   ],
   "source": [
    "print(model)  # textual architecture\n",
    "\n",
    "total = sum(p.numel() for p in model.parameters())\n",
    "trainable = sum(p.numel() for p in model.parameters() if p.requires_grad)\n",
    "print(f\"params: total={total:,} trainable={trainable:,}\")\n"
   ]
  },
  {
   "cell_type": "code",
   "execution_count": 9,
   "id": "53787780",
   "metadata": {},
   "outputs": [
    {
     "data": {
      "image/png": "[encoded data removed]",
      "text/plain": [
       "<Figure size 640x480 with 1 Axes>"
      ]
     },
     "metadata": {},
     "output_type": "display_data"
    }
   ],
   "source": [
    "import torch\n",
    "import matplotlib.pyplot as plt\n",
    "\n",
    "model.eval()\n",
    "xb, yb = next(iter(loader))                # xb: (B,1,X), yb: (B,Y)\n",
    "with torch.no_grad():\n",
    "    pred = model(xb)                       # (B,Y)\n",
    "\n",
    "i = 0  # which sample to view\n",
    "plt.figure()\n",
    "plt.plot(yb[i].numpy(), label=\"target\")\n",
    "plt.plot(pred[i].numpy(), label=\"pred\")\n",
    "plt.legend()\n",
    "plt.title(\"Prediction vs Target (sample 0)\")\n",
    "plt.show()\n"
   ]
  },
  {
   "cell_type": "code",
   "execution_count": 10,
   "id": "e75d31eb",
   "metadata": {},
   "outputs": [
    {
     "data": {
      "text/plain": [
       "==========================================================================================\n",
       "Layer (type:depth-idx)                   Output Shape              Param #\n",
       "==========================================================================================\n",
       "CNN1D                                    [2, 2001]                 --\n",
       "├─Sequential: 1-1                        [2, 16, 4]                --\n",
       "│    └─Conv1d: 2-1                       [2, 16, 4]                32\n",
       "│    └─ReLU: 2-2                         [2, 16, 4]                --\n",
       "│    └─Conv1d: 2-3                       [2, 16, 4]                272\n",
       "│    └─ReLU: 2-4                         [2, 16, 4]                --\n",
       "├─AdaptiveAvgPool1d: 1-2                 [2, 16, 2001]             --\n",
       "├─Conv1d: 1-3                            [2, 1, 2001]              17\n",
       "==========================================================================================\n",
       "Total params: 321\n",
       "Trainable params: 321\n",
       "Non-trainable params: 0\n",
       "Total mult-adds (M): 0.07\n",
       "==========================================================================================\n",
       "Input size (MB): 0.00\n",
       "Forward/backward pass size (MB): 0.03\n",
       "Params size (MB): 0.00\n",
       "Estimated Total Size (MB): 0.04\n",
       "=========================================================================================="
      ]
     },
     "execution_count": 10,
     "metadata": {},
     "output_type": "execute_result"
    }
   ],
   "source": [
    "from torchinfo import summary\n",
    "summary(model, input_size=(2,1,INPUT_VEC_SIZE))"
   ]
  },
  {
   "cell_type": "code",
   "execution_count": null,
   "id": "a276e69b",
   "metadata": {},
   "outputs": [],
   "source": []
  }
 ],
 "metadata": {
  "kernelspec": {
   "display_name": "hackathon",
   "language": "python",
   "name": "python3"
  },
  "language_info": {
   "codemirror_mode": {
    "name": "ipython",
    "version": 3
   },
   "file_extension": ".py",
   "mimetype": "text/x-python",
   "name": "python",
   "nbconvert_exporter": "python",
   "pygments_lexer": "ipython3",
   "version": "3.10.18"
  }
 },
 "nbformat": 4,
 "nbformat_minor": 5
}
